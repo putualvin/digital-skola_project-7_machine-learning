{
 "cells": [
  {
   "cell_type": "code",
   "execution_count": 2,
   "metadata": {},
   "outputs": [
    {
     "name": "stdout",
     "output_type": "stream",
     "text": [
      "Requirement already satisfied: scikit-learn==1.0.2 in c:\\users\\putuandika\\anaconda3\\envs\\geo_env\\lib\\site-packages (1.0.2)Note: you may need to restart the kernel to use updated packages.\n"
     ]
    },
    {
     "name": "stderr",
     "output_type": "stream",
     "text": [
      "\n",
      "[notice] A new release of pip is available: 23.1.2 -> 23.2.1\n",
      "[notice] To update, run: python.exe -m pip install --upgrade pip\n"
     ]
    },
    {
     "name": "stdout",
     "output_type": "stream",
     "text": [
      "\n",
      "Requirement already satisfied: numpy>=1.14.6 in c:\\users\\putuandika\\anaconda3\\envs\\geo_env\\lib\\site-packages (from scikit-learn==1.0.2) (1.22.4)\n",
      "Requirement already satisfied: scipy>=1.1.0 in c:\\users\\putuandika\\anaconda3\\envs\\geo_env\\lib\\site-packages (from scikit-learn==1.0.2) (1.8.1)\n",
      "Requirement already satisfied: joblib>=0.11 in c:\\users\\putuandika\\anaconda3\\envs\\geo_env\\lib\\site-packages (from scikit-learn==1.0.2) (1.1.0)\n",
      "Requirement already satisfied: threadpoolctl>=2.0.0 in c:\\users\\putuandika\\anaconda3\\envs\\geo_env\\lib\\site-packages (from scikit-learn==1.0.2) (3.1.0)\n"
     ]
    }
   ],
   "source": [
    "pip install scikit-learn==1.0.2"
   ]
  }
 ],
 "metadata": {
  "kernelspec": {
   "display_name": "geo_env",
   "language": "python",
   "name": "python3"
  },
  "language_info": {
   "codemirror_mode": {
    "name": "ipython",
    "version": 3
   },
   "file_extension": ".py",
   "mimetype": "text/x-python",
   "name": "python",
   "nbconvert_exporter": "python",
   "pygments_lexer": "ipython3",
   "version": "3.10.4"
  },
  "orig_nbformat": 4
 },
 "nbformat": 4,
 "nbformat_minor": 2
}
